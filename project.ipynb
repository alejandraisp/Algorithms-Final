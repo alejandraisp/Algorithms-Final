{
 "cells": [
  {
   "cell_type": "markdown",
   "metadata": {},
   "source": [
    "<h2> CSCI3383.01 Spring 2021 Algorithms </h2>\n",
    "<h3> Final Project -- Viterbi Algorithm </h3>\n",
    "<h4> Group Member: Alejandra Sanchez, (Ray) Zirui Gan, (Emma) Wenyu Huang \n"
   ]
  },
  {
   "cell_type": "code",
   "execution_count": 1,
   "metadata": {},
   "outputs": [],
   "source": [
    "from math import inf\n",
    "from math import log\n",
    "import numpy as np"
   ]
  },
  {
   "cell_type": "code",
   "execution_count": 2,
   "metadata": {},
   "outputs": [],
   "source": [
    "import time\n",
    "import matplotlib.pyplot as plt\n",
    "import array"
   ]
  },
  {
   "cell_type": "code",
   "execution_count": 3,
   "metadata": {},
   "outputs": [],
   "source": [
    "import tracemalloc"
   ]
  },
  {
   "cell_type": "code",
   "execution_count": 4,
   "metadata": {},
   "outputs": [],
   "source": [
    "def timer(f,arr):\n",
    "    assert(callable(f))\n",
    "    assert(isinstance(arr,array.array))\n",
    "    start = time.time()\n",
    "    f(arr)\n",
    "    end = time.time()\n",
    "    return end - start"
   ]
  },
  {
   "cell_type": "code",
   "execution_count": 5,
   "metadata": {},
   "outputs": [],
   "source": [
    "class Vertex:\n",
    "\n",
    "    def __init__(self,id):\n",
    "        self.attributes = {}\n",
    "        self.attributes['id'] = id\n",
    "        self.probability = 0\n",
    "\n",
    "    def __str__(self):\n",
    "        return str(self.attributes)\n",
    "\n",
    "    def new_copy(self):\n",
    "        return Vertex(self.attributes['id'])\n",
    "\n",
    "    def set(self,key,value):\n",
    "        self.attributes[key] = value\n",
    "\n",
    "    def get(self,key):\n",
    "        return self.attributes[key]"
   ]
  },
  {
   "cell_type": "code",
   "execution_count": 6,
   "metadata": {},
   "outputs": [],
   "source": [
    "class Graph:\n",
    "\n",
    "    def __init__(self):\n",
    "        self.vertices = {}\n",
    "        self.id_to_v = {}\n",
    "        self.edges = {}\n",
    "\n",
    "\n",
    "    def add_vertex(self, i):\n",
    "        self.id_to_v[i.get('id')] = i\n",
    "        self.vertices[i.get('id')] = []\n",
    "\n",
    "    def id_to_v(self, id):\n",
    "        return self.id_to_v[id]\n",
    "    \n",
    "    def add_edge(self, i, j, sigma, prob):\n",
    "        self.vertices[i.get('id')].append(j.get('id'))\n",
    "        self.edges[(i.get('id'),j.get('id'))] = []\n",
    "        self.edges[(i.get('id'),j.get('id'))].append(sigma)\n",
    "        self.edges[(i.get('id'),j.get('id'))].append(-log(prob))\n",
    "\n",
    "    def sigma(self, i, j):\n",
    "        return self.edges[(i,j)][0]\n",
    "\n",
    "    def prob(self, i, j):\n",
    "        return self.edges[(i,j)][1]\n",
    "\n",
    "    \n",
    "    \n",
    "    \n",
    "    def Viterbi(self, s, v, count):\n",
    "        # base case to check if finished check sounds\n",
    "        \n",
    "        if len(s) == 0:\n",
    "            return v\n",
    "        \n",
    "            for i in self.vertices[v]:\n",
    "                if self.sigma(v, i) == s[count]:\n",
    "                    res = self.Viterbi(s[count + 1:], i, count + 1)\n",
    "                    if res != False:\n",
    "                        list = [v]\n",
    "                        return list.append(res)\n",
    "            \n",
    "            return False\n",
    "                   \n",
    "\n",
    "\n",
    "\n",
    "    def Viterbiprob(self, s, v):\n",
    "\n",
    "        #having the table record the probability and path record the exact path\n",
    "        key_list = self.vertices.keys()\n",
    "\n",
    "        table = [['0' for i in range(len(s) + 2)] for j in range(len(key_list))]\n",
    "        path = [['0' for i in range(len(s) + 2)] for j in range(len(key_list))]\n",
    "\n",
    "        j = 0\n",
    "        for i in key_list:\n",
    "            table[j][0] = i\n",
    "            path[j][0] = i\n",
    "            j += 1\n",
    "\n",
    "\n",
    "\n",
    "        row = 0\n",
    "        while path[row][0] != v:\n",
    "            row += 1\n",
    "\n",
    "        #for i in range(1, len(s) + 1):\n",
    "        for j in range(1, len(s) + 1):\n",
    "            found = False\n",
    "            orow = row\n",
    "            for k in self.vertices[path[orow][0]]:\n",
    "                  if self.sigma(path[orow][0], k) == s[j - 1]:\n",
    "                        found = True\n",
    "                        row = 0\n",
    "                        while table[row][0] != k:\n",
    "                            row += 1\n",
    "                        # calculate the optimal conpounding probability using the table and max method\n",
    "                        p = self.prob(path[orow][0], k) + int(table[orow][j])\n",
    "\n",
    "                        if int(table[row][j + 1]) < p:\n",
    "                            table[row][j + 1] = p\n",
    "                            path[row][j + 1] = path[orow][0]\n",
    "\n",
    "            #append the probability p to the table and the vertex q to the pat\n",
    "\n",
    "\n",
    "        # look for the identifier found to return either NO-SUCH-PATH or the sublist of the path\n",
    "        if found == False:\n",
    "            print(\"NO-SUCH-PATH!\\n\")\n",
    "        else:\n",
    "            prob = 0\n",
    "            for i in range(len(key_list)):\n",
    "                prob = max(prob, int(table[i][len(s) + 1]))\n",
    "           \n",
    "      \n",
    "            row = 0\n",
    "            while int(table[row][len(s) + 1]) != prob:\n",
    "                row += 1\n",
    "\n",
    "            list = []\n",
    "            list.append(path[row][0])\n",
    "            for i in range (len(s) + 1, 1, -1):\n",
    "                list.append(path[row][i])\n",
    "                orow = row\n",
    "                row = 0\n",
    "           \n",
    "                while path[row][0] != path[orow][i]:\n",
    "                   row += 1\n",
    "\n",
    "            return list[::-1]\n",
    "         "
   ]
  },
  {
   "cell_type": "code",
   "execution_count": 7,
   "metadata": {},
   "outputs": [],
   "source": [
    "def create_graph_1():\n",
    "    G = Graph()\n",
    "    \n",
    "    for i in ['u','v','w','x','y','z']:\n",
    "        G.add_vertex(Vertex(i))\n",
    "        \n",
    "    for (v1,v2, sigma, prob) in [('u','x', 's', 0.4),('u','v', 's', 0.6),('x','v', 'b', 0.2),('v','y', 'c', 0.8),\n",
    "                                 ('y','x','g', 0.1),('w','y','h' ,0.2),('w','z', 'h', 0.1)]:\n",
    "        \n",
    "        G.add_edge(G.id_to_v[v1],G.id_to_v[v2], sigma, prob)\n",
    "    \n",
    "    return G"
   ]
  },
  {
   "cell_type": "code",
   "execution_count": 8,
   "metadata": {},
   "outputs": [],
   "source": [
    "G1 = create_graph_1()"
   ]
  },
  {
   "cell_type": "code",
   "execution_count": 9,
   "metadata": {},
   "outputs": [
    {
     "data": {
      "text/plain": [
       "['u', 'v', 'y', 'x', 'v']"
      ]
     },
     "execution_count": 9,
     "metadata": {},
     "output_type": "execute_result"
    }
   ],
   "source": [
    "G1.Viterbiprob('scgb', 'u')"
   ]
  },
  {
   "cell_type": "code",
   "execution_count": 10,
   "metadata": {},
   "outputs": [],
   "source": [
    "G1.Viterbi('scgb', 'u', 0)"
   ]
  },
  {
   "cell_type": "code",
   "execution_count": null,
   "metadata": {},
   "outputs": [],
   "source": []
  }
 ],
 "metadata": {
  "kernelspec": {
   "display_name": "Python 3",
   "language": "python",
   "name": "python3"
  },
  "language_info": {
   "codemirror_mode": {
    "name": "ipython",
    "version": 3
   },
   "file_extension": ".py",
   "mimetype": "text/x-python",
   "name": "python",
   "nbconvert_exporter": "python",
   "pygments_lexer": "ipython3",
   "version": "3.9.1"
  }
 },
 "nbformat": 4,
 "nbformat_minor": 4
}
